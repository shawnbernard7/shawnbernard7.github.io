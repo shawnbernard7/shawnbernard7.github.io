{
 "cells": [
  {
   "cell_type": "markdown",
   "id": "8cd0814e",
   "metadata": {},
   "source": [
    "# KNN Classification Demo"
   ]
  },
  {
   "cell_type": "markdown",
   "id": "ad22ef9d",
   "metadata": {},
   "source": [
    "In this demo, I will perform a Heart Disease classification analysis on a dataset available here: https://www.kaggle.com/datasets/fedesoriano/heart-failure-prediction?resource=download. First, basic EDA and preprocesing will be done, then I will perform cross-validated K-nearest neighbor classification using Gower distance. For exercise, I will not use any packaged functions for KNN or cross validation."
   ]
  },
  {
   "cell_type": "markdown",
   "id": "a77c997b",
   "metadata": {},
   "source": [
    "First I will import the required packages and read in the dataframe. Following, I will check the data types & missing values, assigning proper data types and handling NAs if present."
   ]
  },
  {
   "cell_type": "code",
   "execution_count": 1,
   "id": "7bdc7b44",
   "metadata": {},
   "outputs": [
    {
     "data": {
      "text/html": [
       "<div>\n",
       "<style scoped>\n",
       "    .dataframe tbody tr th:only-of-type {\n",
       "        vertical-align: middle;\n",
       "    }\n",
       "\n",
       "    .dataframe tbody tr th {\n",
       "        vertical-align: top;\n",
       "    }\n",
       "\n",
       "    .dataframe thead th {\n",
       "        text-align: right;\n",
       "    }\n",
       "</style>\n",
       "<table border=\"1\" class=\"dataframe\">\n",
       "  <thead>\n",
       "    <tr style=\"text-align: right;\">\n",
       "      <th></th>\n",
       "      <th>Age</th>\n",
       "      <th>Sex</th>\n",
       "      <th>ChestPainType</th>\n",
       "      <th>RestingBP</th>\n",
       "      <th>Cholesterol</th>\n",
       "      <th>FastingBS</th>\n",
       "      <th>RestingECG</th>\n",
       "      <th>MaxHR</th>\n",
       "      <th>ExerciseAngina</th>\n",
       "      <th>Oldpeak</th>\n",
       "      <th>ST_Slope</th>\n",
       "      <th>HeartDisease</th>\n",
       "    </tr>\n",
       "  </thead>\n",
       "  <tbody>\n",
       "    <tr>\n",
       "      <th>0</th>\n",
       "      <td>40</td>\n",
       "      <td>M</td>\n",
       "      <td>ATA</td>\n",
       "      <td>140</td>\n",
       "      <td>289</td>\n",
       "      <td>0</td>\n",
       "      <td>Normal</td>\n",
       "      <td>172</td>\n",
       "      <td>N</td>\n",
       "      <td>0.0</td>\n",
       "      <td>Up</td>\n",
       "      <td>0</td>\n",
       "    </tr>\n",
       "    <tr>\n",
       "      <th>1</th>\n",
       "      <td>49</td>\n",
       "      <td>F</td>\n",
       "      <td>NAP</td>\n",
       "      <td>160</td>\n",
       "      <td>180</td>\n",
       "      <td>0</td>\n",
       "      <td>Normal</td>\n",
       "      <td>156</td>\n",
       "      <td>N</td>\n",
       "      <td>1.0</td>\n",
       "      <td>Flat</td>\n",
       "      <td>1</td>\n",
       "    </tr>\n",
       "    <tr>\n",
       "      <th>2</th>\n",
       "      <td>37</td>\n",
       "      <td>M</td>\n",
       "      <td>ATA</td>\n",
       "      <td>130</td>\n",
       "      <td>283</td>\n",
       "      <td>0</td>\n",
       "      <td>ST</td>\n",
       "      <td>98</td>\n",
       "      <td>N</td>\n",
       "      <td>0.0</td>\n",
       "      <td>Up</td>\n",
       "      <td>0</td>\n",
       "    </tr>\n",
       "    <tr>\n",
       "      <th>3</th>\n",
       "      <td>48</td>\n",
       "      <td>F</td>\n",
       "      <td>ASY</td>\n",
       "      <td>138</td>\n",
       "      <td>214</td>\n",
       "      <td>0</td>\n",
       "      <td>Normal</td>\n",
       "      <td>108</td>\n",
       "      <td>Y</td>\n",
       "      <td>1.5</td>\n",
       "      <td>Flat</td>\n",
       "      <td>1</td>\n",
       "    </tr>\n",
       "    <tr>\n",
       "      <th>4</th>\n",
       "      <td>54</td>\n",
       "      <td>M</td>\n",
       "      <td>NAP</td>\n",
       "      <td>150</td>\n",
       "      <td>195</td>\n",
       "      <td>0</td>\n",
       "      <td>Normal</td>\n",
       "      <td>122</td>\n",
       "      <td>N</td>\n",
       "      <td>0.0</td>\n",
       "      <td>Up</td>\n",
       "      <td>0</td>\n",
       "    </tr>\n",
       "  </tbody>\n",
       "</table>\n",
       "</div>"
      ],
      "text/plain": [
       "   Age Sex ChestPainType  RestingBP  Cholesterol  FastingBS RestingECG  MaxHR  \\\n",
       "0   40   M           ATA        140          289          0     Normal    172   \n",
       "1   49   F           NAP        160          180          0     Normal    156   \n",
       "2   37   M           ATA        130          283          0         ST     98   \n",
       "3   48   F           ASY        138          214          0     Normal    108   \n",
       "4   54   M           NAP        150          195          0     Normal    122   \n",
       "\n",
       "  ExerciseAngina  Oldpeak ST_Slope  HeartDisease  \n",
       "0              N      0.0       Up             0  \n",
       "1              N      1.0     Flat             1  \n",
       "2              N      0.0       Up             0  \n",
       "3              Y      1.5     Flat             1  \n",
       "4              N      0.0       Up             0  "
      ]
     },
     "execution_count": 1,
     "metadata": {},
     "output_type": "execute_result"
    }
   ],
   "source": [
    "import pandas as pd\n",
    "import numpy as np\n",
    "import gower\n",
    "from collections import Counter\n",
    "from functools import reduce\n",
    "import matplotlib.pyplot as plt\n",
    "from sklearn.preprocessing import StandardScaler\n",
    "\n",
    "hd_df = pd.read_csv(\"heart 2.csv\")\n",
    "hd_df.head()"
   ]
  },
  {
   "cell_type": "code",
   "execution_count": 2,
   "id": "364ca1c4",
   "metadata": {},
   "outputs": [
    {
     "data": {
      "text/plain": [
       "Age               0\n",
       "Sex               0\n",
       "ChestPainType     0\n",
       "RestingBP         0\n",
       "Cholesterol       0\n",
       "FastingBS         0\n",
       "RestingECG        0\n",
       "MaxHR             0\n",
       "ExerciseAngina    0\n",
       "Oldpeak           0\n",
       "ST_Slope          0\n",
       "HeartDisease      0\n",
       "dtype: int64"
      ]
     },
     "execution_count": 2,
     "metadata": {},
     "output_type": "execute_result"
    }
   ],
   "source": [
    "hd_df.isna().sum()"
   ]
  },
  {
   "cell_type": "code",
   "execution_count": 3,
   "id": "4a5cb238",
   "metadata": {},
   "outputs": [
    {
     "data": {
      "text/plain": [
       "Age                 int64\n",
       "Sex                object\n",
       "ChestPainType      object\n",
       "RestingBP           int64\n",
       "Cholesterol         int64\n",
       "FastingBS           int64\n",
       "RestingECG         object\n",
       "MaxHR               int64\n",
       "ExerciseAngina     object\n",
       "Oldpeak           float64\n",
       "ST_Slope           object\n",
       "HeartDisease        int64\n",
       "dtype: object"
      ]
     },
     "execution_count": 3,
     "metadata": {},
     "output_type": "execute_result"
    }
   ],
   "source": [
    "hd_df.dtypes"
   ]
  },
  {
   "cell_type": "markdown",
   "id": "bd4c5dbf",
   "metadata": {},
   "source": [
    "I will cast HeartDisease, and FastingBS from integer to object because of their binary nature. No null handling needs to be done here."
   ]
  },
  {
   "cell_type": "code",
   "execution_count": 4,
   "id": "1b1dc4a6",
   "metadata": {},
   "outputs": [],
   "source": [
    "hd_df['FastingBS'] = hd_df['FastingBS'].astype(str)\n",
    "hd_df['HeartDisease'] = hd_df['HeartDisease'].astype(str)"
   ]
  },
  {
   "cell_type": "markdown",
   "id": "9cd99da5",
   "metadata": {},
   "source": [
    "Next, I will check the distribution of the outcome variable. This is essential knowledge in predictive modelling."
   ]
  },
  {
   "cell_type": "code",
   "execution_count": 5,
   "id": "959fda03",
   "metadata": {},
   "outputs": [
    {
     "data": {
      "text/plain": [
       "1    0.553377\n",
       "0    0.446623\n",
       "Name: HeartDisease, dtype: float64"
      ]
     },
     "execution_count": 5,
     "metadata": {},
     "output_type": "execute_result"
    }
   ],
   "source": [
    "hd_df['HeartDisease'].value_counts(normalize = True)"
   ]
  },
  {
   "cell_type": "markdown",
   "id": "cb34db5e",
   "metadata": {},
   "source": [
    "Since KNN utilizes a distance metric between records, continuous predictors should be scaled before application. I will check the distribution of the continuous predictors in order to determine the best method of scaling."
   ]
  },
  {
   "cell_type": "code",
   "execution_count": 6,
   "id": "8954b3dd",
   "metadata": {},
   "outputs": [],
   "source": [
    "continuous_df = hd_df.select_dtypes(exclude = 'object')"
   ]
  },
  {
   "cell_type": "code",
   "execution_count": 7,
   "id": "ca0b30ab",
   "metadata": {},
   "outputs": [
    {
     "data": {
      "image/png": "[encoded data removed]",
      "text/plain": [
       "<Figure size 1200x800 with 6 Axes>"
      ]
     },
     "metadata": {},
     "output_type": "display_data"
    }
   ],
   "source": [
    "fig, axes = plt.subplots(2, 3, figsize=(12, 8)) ## create a 2x3 grid for frequency histograms\n",
    "axes = axes.flatten() ## flatten axes array to make it easier to iterate over\n",
    "## iterate over attributes and plot histograms\n",
    "for i, attribute in enumerate(continuous_df.columns):\n",
    "    ax = axes[i] ## select current plot cell\n",
    "    # plot histogram for selected cell\n",
    "    continuous_df[attribute].plot(kind='hist', bins = 20, ax=ax, title=attribute, color='skyblue', edgecolor='black')\n",
    "    # set plot cell labels\n",
    "    ax.set_xlabel(attribute)\n",
    "    ax.set_ylabel('Frequency')\n",
    "plt.tight_layout()\n",
    "plt.show()"
   ]
  },
  {
   "cell_type": "code",
   "execution_count": 8,
   "id": "6a8b4157",
   "metadata": {},
   "outputs": [
    {
     "data": {
      "text/plain": [
       "0.4008714596949891"
      ]
     },
     "execution_count": 8,
     "metadata": {},
     "output_type": "execute_result"
    }
   ],
   "source": [
    "len(hd_df[hd_df.Oldpeak == 0]) / len(hd_df)"
   ]
  },
  {
   "cell_type": "code",
   "execution_count": 9,
   "id": "461825a7",
   "metadata": {},
   "outputs": [
    {
     "data": {
      "text/plain": [
       "0.18736383442265794"
      ]
     },
     "execution_count": 9,
     "metadata": {},
     "output_type": "execute_result"
    }
   ],
   "source": [
    "len(hd_df[hd_df.Cholesterol == 0]) / len(hd_df)"
   ]
  },
  {
   "cell_type": "code",
   "execution_count": 10,
   "id": "7c4af79a",
   "metadata": {},
   "outputs": [
    {
     "data": {
      "text/plain": [
       "0.0010893246187363835"
      ]
     },
     "execution_count": 10,
     "metadata": {},
     "output_type": "execute_result"
    }
   ],
   "source": [
    "len(hd_df[hd_df.RestingBP == 0]) / len(hd_df)"
   ]
  },
  {
   "cell_type": "markdown",
   "id": "a7bf0102",
   "metadata": {},
   "source": [
    "It appears there was null filling with zero in this dataset, as 18.7% of the observations in the dataset have serum cholesterol values of 0 mm/dl, which isn't physiologically possible (and .1% with a resting blood pressure of 0 mm Hg). 40% of the observations have values of zero for oldpeak, but based on my research, 0 is a normal value of oldpeak, thus I cannot tell if there was null filling done here.\n",
    "\n",
    "I am going to drop rows with values of zero for Cholesterol or RestingBP because it is clear that these values were improperly filled with zero, and I won't apply any removal/changes to zero values for Oldpeak because of the ambiguity of potential null filling. This is a large portion of data to drop (~19%), but the bias induced by zero filling must be addressed here. Advanced imputation could also be attempted here to avoid data loss, but for the purpose of the analysis I will move forward with dropping observations."
   ]
  },
  {
   "cell_type": "code",
   "execution_count": 11,
   "id": "2ca00c46",
   "metadata": {},
   "outputs": [],
   "source": [
    "hd_df_prepped = hd_df[(hd_df.Cholesterol != 0) & (hd_df.RestingBP != 0)].copy()"
   ]
  },
  {
   "cell_type": "code",
   "execution_count": 12,
   "id": "e3c8adaf",
   "metadata": {},
   "outputs": [
    {
     "data": {
      "text/plain": [
       "0.8126361655773421"
      ]
     },
     "execution_count": 12,
     "metadata": {},
     "output_type": "execute_result"
    }
   ],
   "source": [
    "len(hd_df_prepped) / len(hd_df)"
   ]
  },
  {
   "cell_type": "markdown",
   "id": "b5352193",
   "metadata": {},
   "source": [
    "We retain 81.3% of the original dataset. Next, I will scale the continuous predictors. Since they appear to be approximately normally distributed (with the exception of zeroes in Oldpeak), I will use Z-score normalization, or scikit-learn's StandardScaler."
   ]
  },
  {
   "cell_type": "code",
   "execution_count": 13,
   "id": "2ba9e2e8",
   "metadata": {},
   "outputs": [],
   "source": [
    "continuous_data = hd_df_prepped.select_dtypes(exclude='object').copy()\n",
    "scaled_data = StandardScaler().fit_transform(continuous_data) ## scale continuous cols\n",
    "hd_df_prepped[continuous_data.columns] = scaled_data ## replace cols with their scaled values"
   ]
  },
  {
   "cell_type": "markdown",
   "id": "1c7dee91",
   "metadata": {},
   "source": [
    "Next, we will move into classification. I will use cross validation to estimate error in the KNN application, but first, I will demonstrate gower distancing on the first CV fold. Gower distance is a metric which can be applied on cases of mixed data types, applying different calculations for categorical, ordinal, and continuous features and aggregating these calculations to get single distances between records. Gower distance can range between 0 & 1."
   ]
  },
  {
   "cell_type": "code",
   "execution_count": 14,
   "id": "8d8a4266",
   "metadata": {},
   "outputs": [],
   "source": [
    "hd_df_prepped = hd_df_prepped.sample(frac = 1,  random_state = 33) ## shuffle df\n",
    "hd_df_prepped_splits = np.array_split(hd_df_prepped, 10) ## split df into 10 equal sized partitions\n",
    "X_test = hd_df_prepped_splits[0].drop('HeartDisease', axis=1)\n",
    "X_train = pd.concat(hd_df_prepped_splits[1:9]).drop('HeartDisease', axis=1)\n",
    "y_test = hd_df_prepped_splits[0]['HeartDisease']\n",
    "y_train = pd.concat(hd_df_prepped_splits[1:9])['HeartDisease']\n",
    "gower_mat = pd.DataFrame(gower.gower_matrix(X_train, X_test, cat_features = [False, True, True, False, False, True, True, False, True, False, True]))"
   ]
  },
  {
   "cell_type": "code",
   "execution_count": 15,
   "id": "73bcffa3",
   "metadata": {},
   "outputs": [
    {
     "data": {
      "text/plain": [
       "0.48408710217755446"
      ]
     },
     "execution_count": 15,
     "metadata": {},
     "output_type": "execute_result"
    }
   ],
   "source": [
    "len([x for x in y_train.tolist() if x == '1']) / len(y_train)"
   ]
  },
  {
   "cell_type": "code",
   "execution_count": 16,
   "id": "ab63d368",
   "metadata": {},
   "outputs": [
    {
     "data": {
      "text/html": [
       "<div>\n",
       "<style scoped>\n",
       "    .dataframe tbody tr th:only-of-type {\n",
       "        vertical-align: middle;\n",
       "    }\n",
       "\n",
       "    .dataframe tbody tr th {\n",
       "        vertical-align: top;\n",
       "    }\n",
       "\n",
       "    .dataframe thead th {\n",
       "        text-align: right;\n",
       "    }\n",
       "</style>\n",
       "<table border=\"1\" class=\"dataframe\">\n",
       "  <thead>\n",
       "    <tr style=\"text-align: right;\">\n",
       "      <th></th>\n",
       "      <th>0</th>\n",
       "      <th>1</th>\n",
       "      <th>2</th>\n",
       "      <th>3</th>\n",
       "      <th>4</th>\n",
       "      <th>5</th>\n",
       "      <th>6</th>\n",
       "      <th>7</th>\n",
       "      <th>8</th>\n",
       "      <th>9</th>\n",
       "      <th>...</th>\n",
       "      <th>65</th>\n",
       "      <th>66</th>\n",
       "      <th>67</th>\n",
       "      <th>68</th>\n",
       "      <th>69</th>\n",
       "      <th>70</th>\n",
       "      <th>71</th>\n",
       "      <th>72</th>\n",
       "      <th>73</th>\n",
       "      <th>74</th>\n",
       "    </tr>\n",
       "  </thead>\n",
       "  <tbody>\n",
       "    <tr>\n",
       "      <th>0</th>\n",
       "      <td>0.135883</td>\n",
       "      <td>0.152581</td>\n",
       "      <td>0.130015</td>\n",
       "      <td>0.131913</td>\n",
       "      <td>0.466489</td>\n",
       "      <td>0.399922</td>\n",
       "      <td>0.352853</td>\n",
       "      <td>0.348517</td>\n",
       "      <td>0.328437</td>\n",
       "      <td>0.278849</td>\n",
       "      <td>...</td>\n",
       "      <td>0.469101</td>\n",
       "      <td>0.155951</td>\n",
       "      <td>0.335453</td>\n",
       "      <td>0.508461</td>\n",
       "      <td>0.431200</td>\n",
       "      <td>0.347484</td>\n",
       "      <td>0.407083</td>\n",
       "      <td>0.312511</td>\n",
       "      <td>0.179165</td>\n",
       "      <td>0.262836</td>\n",
       "    </tr>\n",
       "    <tr>\n",
       "      <th>1</th>\n",
       "      <td>0.291783</td>\n",
       "      <td>0.327268</td>\n",
       "      <td>0.224896</td>\n",
       "      <td>0.135885</td>\n",
       "      <td>0.317074</td>\n",
       "      <td>0.318711</td>\n",
       "      <td>0.251340</td>\n",
       "      <td>0.202962</td>\n",
       "      <td>0.270466</td>\n",
       "      <td>0.350342</td>\n",
       "      <td>...</td>\n",
       "      <td>0.447228</td>\n",
       "      <td>0.129848</td>\n",
       "      <td>0.154872</td>\n",
       "      <td>0.363959</td>\n",
       "      <td>0.461146</td>\n",
       "      <td>0.271779</td>\n",
       "      <td>0.239508</td>\n",
       "      <td>0.167733</td>\n",
       "      <td>0.284927</td>\n",
       "      <td>0.313971</td>\n",
       "    </tr>\n",
       "    <tr>\n",
       "      <th>2</th>\n",
       "      <td>0.223393</td>\n",
       "      <td>0.398121</td>\n",
       "      <td>0.258490</td>\n",
       "      <td>0.347586</td>\n",
       "      <td>0.515833</td>\n",
       "      <td>0.152184</td>\n",
       "      <td>0.280371</td>\n",
       "      <td>0.401721</td>\n",
       "      <td>0.287407</td>\n",
       "      <td>0.255868</td>\n",
       "      <td>...</td>\n",
       "      <td>0.555077</td>\n",
       "      <td>0.345260</td>\n",
       "      <td>0.367879</td>\n",
       "      <td>0.562718</td>\n",
       "      <td>0.659904</td>\n",
       "      <td>0.292087</td>\n",
       "      <td>0.444038</td>\n",
       "      <td>0.355360</td>\n",
       "      <td>0.307640</td>\n",
       "      <td>0.310069</td>\n",
       "    </tr>\n",
       "    <tr>\n",
       "      <th>3</th>\n",
       "      <td>0.411431</td>\n",
       "      <td>0.288768</td>\n",
       "      <td>0.327232</td>\n",
       "      <td>0.253063</td>\n",
       "      <td>0.183922</td>\n",
       "      <td>0.266541</td>\n",
       "      <td>0.353605</td>\n",
       "      <td>0.078468</td>\n",
       "      <td>0.143086</td>\n",
       "      <td>0.449133</td>\n",
       "      <td>...</td>\n",
       "      <td>0.528703</td>\n",
       "      <td>0.247612</td>\n",
       "      <td>0.032099</td>\n",
       "      <td>0.230807</td>\n",
       "      <td>0.342423</td>\n",
       "      <td>0.153057</td>\n",
       "      <td>0.336932</td>\n",
       "      <td>0.067564</td>\n",
       "      <td>0.376883</td>\n",
       "      <td>0.463959</td>\n",
       "    </tr>\n",
       "    <tr>\n",
       "      <th>4</th>\n",
       "      <td>0.430365</td>\n",
       "      <td>0.582908</td>\n",
       "      <td>0.520640</td>\n",
       "      <td>0.446470</td>\n",
       "      <td>0.467022</td>\n",
       "      <td>0.393437</td>\n",
       "      <td>0.482876</td>\n",
       "      <td>0.394401</td>\n",
       "      <td>0.457501</td>\n",
       "      <td>0.363955</td>\n",
       "      <td>...</td>\n",
       "      <td>0.425647</td>\n",
       "      <td>0.397624</td>\n",
       "      <td>0.424160</td>\n",
       "      <td>0.461752</td>\n",
       "      <td>0.479145</td>\n",
       "      <td>0.518291</td>\n",
       "      <td>0.300783</td>\n",
       "      <td>0.393649</td>\n",
       "      <td>0.524988</td>\n",
       "      <td>0.541331</td>\n",
       "    </tr>\n",
       "  </tbody>\n",
       "</table>\n",
       "<p>5 rows × 75 columns</p>\n",
       "</div>"
      ],
      "text/plain": [
       "         0         1         2         3         4         5         6   \\\n",
       "0  0.135883  0.152581  0.130015  0.131913  0.466489  0.399922  0.352853   \n",
       "1  0.291783  0.327268  0.224896  0.135885  0.317074  0.318711  0.251340   \n",
       "2  0.223393  0.398121  0.258490  0.347586  0.515833  0.152184  0.280371   \n",
       "3  0.411431  0.288768  0.327232  0.253063  0.183922  0.266541  0.353605   \n",
       "4  0.430365  0.582908  0.520640  0.446470  0.467022  0.393437  0.482876   \n",
       "\n",
       "         7         8         9   ...        65        66        67        68  \\\n",
       "0  0.348517  0.328437  0.278849  ...  0.469101  0.155951  0.335453  0.508461   \n",
       "1  0.202962  0.270466  0.350342  ...  0.447228  0.129848  0.154872  0.363959   \n",
       "2  0.401721  0.287407  0.255868  ...  0.555077  0.345260  0.367879  0.562718   \n",
       "3  0.078468  0.143086  0.449133  ...  0.528703  0.247612  0.032099  0.230807   \n",
       "4  0.394401  0.457501  0.363955  ...  0.425647  0.397624  0.424160  0.461752   \n",
       "\n",
       "         69        70        71        72        73        74  \n",
       "0  0.431200  0.347484  0.407083  0.312511  0.179165  0.262836  \n",
       "1  0.461146  0.271779  0.239508  0.167733  0.284927  0.313971  \n",
       "2  0.659904  0.292087  0.444038  0.355360  0.307640  0.310069  \n",
       "3  0.342423  0.153057  0.336932  0.067564  0.376883  0.463959  \n",
       "4  0.479145  0.518291  0.300783  0.393649  0.524988  0.541331  \n",
       "\n",
       "[5 rows x 75 columns]"
      ]
     },
     "execution_count": 16,
     "metadata": {},
     "output_type": "execute_result"
    }
   ],
   "source": [
    "gower_mat.head()"
   ]
  },
  {
   "cell_type": "markdown",
   "id": "d9ee49a6",
   "metadata": {},
   "source": [
    "In the matrix above, the columns correspond to the individual training cases, and rows correspond to the test cases, with each cell being the gower distance between the two records.\n",
    "\n",
    "Now I will next perform K-Nearest Neighbor classification using 10-fold cross validation. Cross validation is essential in optimizing machine learning analyses because cross validation ensures that the entire dataset will be utilized in training the model, resulting in more robust error estimation.\n",
    "\n",
    "Within each CV fold, the k nearest training cases for each test case (k lowest distances for each column) will be identified, and then the mode of the class labels of the k nearest neighbors will be calculated to assign a class label to the test case. In the case of tie in the mode, I will use the distribution of the outcome in the training data to randomly assign the classification (ie. if 60% of training data has positive outcome, I will randomly sample with 60% chance positive). Within each CV fold, I will iterate over values of k from 1 to 20, and calculate the prediction error of each k. The overall result will be a 20x10 dataframe of K values and CV fold errors."
   ]
  },
  {
   "cell_type": "code",
   "execution_count": 17,
   "id": "6aa24b74",
   "metadata": {},
   "outputs": [
    {
     "data": {
      "text/html": [
       "<div>\n",
       "<style scoped>\n",
       "    .dataframe tbody tr th:only-of-type {\n",
       "        vertical-align: middle;\n",
       "    }\n",
       "\n",
       "    .dataframe tbody tr th {\n",
       "        vertical-align: top;\n",
       "    }\n",
       "\n",
       "    .dataframe thead th {\n",
       "        text-align: right;\n",
       "    }\n",
       "</style>\n",
       "<table border=\"1\" class=\"dataframe\">\n",
       "  <thead>\n",
       "    <tr style=\"text-align: right;\">\n",
       "      <th></th>\n",
       "      <th>K</th>\n",
       "      <th>Error_testsplit_0</th>\n",
       "      <th>Error_testsplit_1</th>\n",
       "      <th>Error_testsplit_2</th>\n",
       "      <th>Error_testsplit_3</th>\n",
       "      <th>Error_testsplit_4</th>\n",
       "      <th>Error_testsplit_5</th>\n",
       "      <th>Error_testsplit_6</th>\n",
       "      <th>Error_testsplit_7</th>\n",
       "      <th>Error_testsplit_8</th>\n",
       "      <th>Error_testsplit_9</th>\n",
       "    </tr>\n",
       "  </thead>\n",
       "  <tbody>\n",
       "    <tr>\n",
       "      <th>0</th>\n",
       "      <td>1</td>\n",
       "      <td>0.160000</td>\n",
       "      <td>0.173333</td>\n",
       "      <td>0.200000</td>\n",
       "      <td>0.133333</td>\n",
       "      <td>0.186667</td>\n",
       "      <td>0.213333</td>\n",
       "      <td>0.162162</td>\n",
       "      <td>0.189189</td>\n",
       "      <td>0.229730</td>\n",
       "      <td>0.148649</td>\n",
       "    </tr>\n",
       "    <tr>\n",
       "      <th>1</th>\n",
       "      <td>2</td>\n",
       "      <td>0.146667</td>\n",
       "      <td>0.186667</td>\n",
       "      <td>0.226667</td>\n",
       "      <td>0.146667</td>\n",
       "      <td>0.120000</td>\n",
       "      <td>0.240000</td>\n",
       "      <td>0.175676</td>\n",
       "      <td>0.148649</td>\n",
       "      <td>0.229730</td>\n",
       "      <td>0.148649</td>\n",
       "    </tr>\n",
       "    <tr>\n",
       "      <th>2</th>\n",
       "      <td>3</td>\n",
       "      <td>0.160000</td>\n",
       "      <td>0.146667</td>\n",
       "      <td>0.173333</td>\n",
       "      <td>0.093333</td>\n",
       "      <td>0.146667</td>\n",
       "      <td>0.186667</td>\n",
       "      <td>0.135135</td>\n",
       "      <td>0.108108</td>\n",
       "      <td>0.229730</td>\n",
       "      <td>0.108108</td>\n",
       "    </tr>\n",
       "    <tr>\n",
       "      <th>3</th>\n",
       "      <td>4</td>\n",
       "      <td>0.093333</td>\n",
       "      <td>0.146667</td>\n",
       "      <td>0.160000</td>\n",
       "      <td>0.106667</td>\n",
       "      <td>0.146667</td>\n",
       "      <td>0.200000</td>\n",
       "      <td>0.148649</td>\n",
       "      <td>0.135135</td>\n",
       "      <td>0.202703</td>\n",
       "      <td>0.108108</td>\n",
       "    </tr>\n",
       "    <tr>\n",
       "      <th>4</th>\n",
       "      <td>5</td>\n",
       "      <td>0.133333</td>\n",
       "      <td>0.133333</td>\n",
       "      <td>0.186667</td>\n",
       "      <td>0.093333</td>\n",
       "      <td>0.146667</td>\n",
       "      <td>0.160000</td>\n",
       "      <td>0.148649</td>\n",
       "      <td>0.135135</td>\n",
       "      <td>0.202703</td>\n",
       "      <td>0.121622</td>\n",
       "    </tr>\n",
       "  </tbody>\n",
       "</table>\n",
       "</div>"
      ],
      "text/plain": [
       "   K  Error_testsplit_0  Error_testsplit_1  Error_testsplit_2  \\\n",
       "0  1           0.160000           0.173333           0.200000   \n",
       "1  2           0.146667           0.186667           0.226667   \n",
       "2  3           0.160000           0.146667           0.173333   \n",
       "3  4           0.093333           0.146667           0.160000   \n",
       "4  5           0.133333           0.133333           0.186667   \n",
       "\n",
       "   Error_testsplit_3  Error_testsplit_4  Error_testsplit_5  Error_testsplit_6  \\\n",
       "0           0.133333           0.186667           0.213333           0.162162   \n",
       "1           0.146667           0.120000           0.240000           0.175676   \n",
       "2           0.093333           0.146667           0.186667           0.135135   \n",
       "3           0.106667           0.146667           0.200000           0.148649   \n",
       "4           0.093333           0.146667           0.160000           0.148649   \n",
       "\n",
       "   Error_testsplit_7  Error_testsplit_8  Error_testsplit_9  \n",
       "0           0.189189           0.229730           0.148649  \n",
       "1           0.148649           0.229730           0.148649  \n",
       "2           0.108108           0.229730           0.108108  \n",
       "3           0.135135           0.202703           0.108108  \n",
       "4           0.135135           0.202703           0.121622  "
      ]
     },
     "execution_count": 17,
     "metadata": {},
     "output_type": "execute_result"
    }
   ],
   "source": [
    "## function to calculate modes, and return random sample of 0/1 with train outcome prop in the case of a tie\n",
    "def find_mode(data, train_pos_outcome_prop):\n",
    "    counts = Counter(data)\n",
    "    max_count = max(counts.values())\n",
    "    modes = [key for key, value in counts.items() if value == max_count]\n",
    "    tie_class = np.random.choice(['0','1'], size=1, p=[1 - train_pos_outcome_prop, train_pos_outcome_prop])\n",
    "    return tie_class if len(modes) > 1 else modes[0]\n",
    "\n",
    "error_dfs = [] ## empty list to store k error dfs each fold\n",
    "for i in range(0,10): ## i is the test index of the 10 folds of df\n",
    "    train_inds = list(set(range(0,10)) - set([i])) ## set train indices\n",
    "    X_test = hd_df_prepped_splits[i].drop('HeartDisease', axis=1)\n",
    "    X_train = pd.concat([hd_df_prepped_splits[ind] for ind in train_inds]).drop('HeartDisease', axis=1)\n",
    "    y_test = hd_df_prepped_splits[i]['HeartDisease']\n",
    "    y_test = y_test.reset_index()\n",
    "    y_train = pd.concat([hd_df_prepped_splits[ind] for ind in train_inds])['HeartDisease']\n",
    "    y_train_pos_outcome_prop = len([x for x in y_train.tolist() if x == '1']) / len(y_train) ## prop for mode ties\n",
    "    gower_mat = pd.DataFrame(gower.gower_matrix(X_train, X_test, cat_features = [False, True, True, False, False, True, True, False, True, False, True]))\n",
    "    k_errors = [] ## empty list to store errors for each k for current CV fold\n",
    "    for k in range(1, 21):\n",
    "        nearest_neighbors = {} ## empty dict to store k nearest neighbor indices for each test index\n",
    "        nearest_neighbors_labels = {} ## empty dict to store k nearest neighbor class labels for each test index\n",
    "        classifications = {} ## empty dict to store classifications based on k nearest neighbors\n",
    "        # Iterate through each test case and classify based on k lowest distances (k nearest training neighbors)\n",
    "        for column in gower_mat.columns:\n",
    "            nearest_neighbors[column] = gower_mat[column].nsmallest(k).index.tolist() ## get indexes of k nearest training obs\n",
    "            nearest_neighbors_labels[column] = y_train.iloc[nearest_neighbors[column]].values.tolist() ## get y labels of nearest neighbors\n",
    "            mode = find_mode(nearest_neighbors_labels[column], y_train_pos_outcome_prop) ## get the mode of the nn labels using premade function\n",
    "            classifications[column] = mode\n",
    "        ## get accuracy of test classifications for k\n",
    "        correct_predictions = 0\n",
    "        total_predictions = len(y_test)\n",
    "        for index, row in y_test.iterrows():\n",
    "            true_class = row['HeartDisease']\n",
    "            predicted_class = classifications.get(index)  # get the predicted class from the dictionary\n",
    "            if predicted_class is not None and predicted_class == true_class:\n",
    "                correct_predictions += 1\n",
    "        error = 1 - (correct_predictions / total_predictions)\n",
    "        k_errors.append(error)\n",
    "    ks = list(range(1,21))\n",
    "    errors = pd.DataFrame({'K':ks, 'Error_testsplit_' + str(i):k_errors}) ## create df of k & errors for current CV fold\n",
    "    error_dfs.append(errors)\n",
    "k_split_errors = reduce(lambda left,right: pd.merge(left,right,on='K',), error_dfs)\n",
    "k_split_errors.head()"
   ]
  },
  {
   "cell_type": "markdown",
   "id": "172e9ec4",
   "metadata": {},
   "source": [
    "Now I will average the CV fold errors for each k to get overall CV errors."
   ]
  },
  {
   "cell_type": "code",
   "execution_count": 20,
   "id": "2ffc8277",
   "metadata": {},
   "outputs": [
    {
     "data": {
      "text/html": [
       "<div>\n",
       "<style scoped>\n",
       "    .dataframe tbody tr th:only-of-type {\n",
       "        vertical-align: middle;\n",
       "    }\n",
       "\n",
       "    .dataframe tbody tr th {\n",
       "        vertical-align: top;\n",
       "    }\n",
       "\n",
       "    .dataframe thead th {\n",
       "        text-align: right;\n",
       "    }\n",
       "</style>\n",
       "<table border=\"1\" class=\"dataframe\">\n",
       "  <thead>\n",
       "    <tr style=\"text-align: right;\">\n",
       "      <th></th>\n",
       "      <th>K</th>\n",
       "      <th>cv_error</th>\n",
       "    </tr>\n",
       "  </thead>\n",
       "  <tbody>\n",
       "    <tr>\n",
       "      <th>0</th>\n",
       "      <td>1</td>\n",
       "      <td>0.179640</td>\n",
       "    </tr>\n",
       "    <tr>\n",
       "      <th>1</th>\n",
       "      <td>2</td>\n",
       "      <td>0.176937</td>\n",
       "    </tr>\n",
       "    <tr>\n",
       "      <th>2</th>\n",
       "      <td>3</td>\n",
       "      <td>0.148775</td>\n",
       "    </tr>\n",
       "    <tr>\n",
       "      <th>3</th>\n",
       "      <td>4</td>\n",
       "      <td>0.144793</td>\n",
       "    </tr>\n",
       "    <tr>\n",
       "      <th>4</th>\n",
       "      <td>5</td>\n",
       "      <td>0.146144</td>\n",
       "    </tr>\n",
       "  </tbody>\n",
       "</table>\n",
       "</div>"
      ],
      "text/plain": [
       "   K  cv_error\n",
       "0  1  0.179640\n",
       "1  2  0.176937\n",
       "2  3  0.148775\n",
       "3  4  0.144793\n",
       "4  5  0.146144"
      ]
     },
     "execution_count": 20,
     "metadata": {},
     "output_type": "execute_result"
    }
   ],
   "source": [
    "avg_errors = k_split_errors.drop('K', axis = 1).mean(axis=1)\n",
    "k_avg_errors = pd.concat([k_split_errors['K'], avg_errors], axis = 1)\n",
    "k_avg_errors.rename(columns = {0:'cv_error'}, inplace = True)\n",
    "k_avg_errors.head()"
   ]
  },
  {
   "cell_type": "markdown",
   "id": "e5204e8a",
   "metadata": {},
   "source": [
    "Finally, I will plot the CV errors for each k and determine the optimal k based on this analysis."
   ]
  },
  {
   "cell_type": "code",
   "execution_count": 19,
   "id": "c20de3a6",
   "metadata": {},
   "outputs": [
    {
     "data": {
      "image/png": "[encoded data removed]",
      "text/plain": [
       "<Figure size 640x480 with 1 Axes>"
      ]
     },
     "metadata": {},
     "output_type": "display_data"
    }
   ],
   "source": [
    "# Create a scatter plot for k & error\n",
    "plt.scatter(k_avg_errors['K'], k_avg_errors['cv_error'])\n",
    "plt.xlabel('K')\n",
    "plt.ylabel('Cross-Validated Prediction Error')\n",
    "plt.title('K vs. CV Prediction Error')\n",
    "\n",
    "# Find the index of the point with the lowest error\n",
    "best_k_index = k_avg_errors['cv_error'].idxmin()\n",
    "best_k_value = k_avg_errors.loc[best_k_index, 'K']\n",
    "\n",
    "# Annotate the point with the lowest error in red\n",
    "plt.scatter(k_avg_errors.loc[best_k_index, 'K'], k_avg_errors.loc[best_k_index, 'cv_error'], color='red')\n",
    "plt.annotate(f'Best k = {best_k_value}', xy=(k_avg_errors.loc[best_k_index, 'K'], k_avg_errors.loc[best_k_index, 'cv_error']), xytext=(20, 20),\n",
    "             textcoords='offset points', arrowprops=dict(arrowstyle='->', color='red'))\n",
    "\n",
    "plt.show()"
   ]
  },
  {
   "cell_type": "code",
   "execution_count": 22,
   "id": "315b701e",
   "metadata": {},
   "outputs": [
    {
     "data": {
      "text/plain": [
       "0.13133333333333333"
      ]
     },
     "execution_count": 22,
     "metadata": {},
     "output_type": "execute_result"
    }
   ],
   "source": [
    "k_avg_errors.cv_error.min()"
   ]
  },
  {
   "cell_type": "markdown",
   "id": "06720592",
   "metadata": {},
   "source": [
    "We end up with K=13 as the best K here, with an estimated prediction error of 13.1%. \n",
    "\n",
    "Thanks for following along! This demo was designed to guide through the K-Nearest Neighbors classification process using gower distancing & cross-validation. Not using a package for machine learning techniques is a great way to strengthen understanding."
   ]
  }
 ],
 "metadata": {
  "kernelspec": {
   "display_name": "Python 3 (ipykernel)",
   "language": "python",
   "name": "python3"
  },
  "language_info": {
   "codemirror_mode": {
    "name": "ipython",
    "version": 3
   },
   "file_extension": ".py",
   "mimetype": "text/x-python",
   "name": "python",
   "nbconvert_exporter": "python",
   "pygments_lexer": "ipython3",
   "version": "3.9.13"
  }
 },
 "nbformat": 4,
 "nbformat_minor": 5
}
